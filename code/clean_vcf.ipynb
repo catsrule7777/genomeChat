{
 "cells": [
  {
   "cell_type": "code",
   "execution_count": 14,
   "id": "a4c7e0d7-586d-4cda-aa05-fc1c61c57374",
   "metadata": {},
   "outputs": [],
   "source": [
    "import vcf"
   ]
  },
  {
   "cell_type": "code",
   "execution_count": 12,
   "id": "ddd1345a-7481-47a3-8a6a-732cc1d5f169",
   "metadata": {},
   "outputs": [
    {
     "name": "stdout",
     "output_type": "stream",
     "text": [
      "Requirement already satisfied: PyVCF==0.2.1 in c:\\users\\afami\\appdata\\local\\programs\\python\\python312\\lib\\site-packages (0.2.1)\n"
     ]
    },
    {
     "name": "stderr",
     "output_type": "stream",
     "text": [
      "\n",
      "[notice] A new release of pip is available: 24.3.1 -> 25.1.1\n",
      "[notice] To update, run: python.exe -m pip install --upgrade pip\n"
     ]
    }
   ],
   "source": [
    "vcf_reader = vcf.VCF()"
   ]
  },
  {
   "cell_type": "code",
   "execution_count": 8,
   "id": "6d3a8cb5-2424-443b-a5f0-c99569b41b49",
   "metadata": {},
   "outputs": [
    {
     "name": "stdout",
     "output_type": "stream",
     "text": [
      "#CHROM\tPOS\tID\tREF\tALT\tQUAL\tFILTER\tINFO\tFORMAT\tNG1ZJEINXZ\n",
      "\n",
      "chr1\t10440\t.\tC\tCCCTAA\t237.77\tPASS\tAC=2;AF=1.00;AN=2;DP=9;ExcessHet=3.0103;FS=0.000;MLEAC=2;MLEAF=1.00;NEGATIVE_TRAIN_SITE;QD=33.97;SOR=2.833;VQSLOD=-3.928e+00;culprit=DP\tGT:AD:DP:GQ:PGT:PID:PL:PS\t1|1:0,7:8:21:1|1:10397_C_CCCCTAA:275,21,0:10397\n",
      "\n",
      "chr1\t13273\trs531730856\tG\tC\t508.77\tPASS\tAC=2;AF=1.00;AN=2;DB;DP=18;ExcessHet=3.0103;FS=0.000;MLEAC=2;MLEAF=1.00;QD=28.26;SOR=0.914;VQSLOD=2.40;culprit=FS\tGT:AD:DP:GQ:PL\t1/1:0,18:18:54:537,54,0\n",
      "\n",
      "chr1\t13417\trs777038595\tC\tCGAGA\t253.77\tPASS\tAC=1;AF=0.500;AN=2;BaseQRankSum=-1.534e+00;DB;DP=8;ExcessHet=3.0103;FS=9.031;MLEAC=1;MLEAF=0.500;MQRankSum=1.53;NEGATIVE_TRAIN_SITE;QD=31.72;ReadPosRankSum=1.15;SOR=4.163;VQSLOD=0.188;culprit=DP\tGT:AD:DP:GQ:PL\t0/1:1,7:8:21:291,0,21\n",
      "\n",
      "chr1\t15903\trs557514207\tG\tGC\t157.87\tPASS\tAC=2;AF=1.00;AN=2;DB;DP=8;ExcessHet=3.0103;FS=0.000;MLEAC=2;MLEAF=1.00;QD=31.57;SOR=1.981;VQSLOD=-9.140e-01;culprit=DP\tGT:AD:DP:GQ:PL\t1/1:0,5:5:15:195,15,0\n",
      "\n",
      "chr1\t19190\trs1346737557\tGC\tG\t81.73\tPASS\tAC=1;AF=0.500;AN=2;BaseQRankSum=0.822;DB;DP=13;ExcessHet=3.0103;FS=9.792;MLEAC=1;MLEAF=0.500;MQRankSum=-1.744e+00;NEGATIVE_TRAIN_SITE;QD=6.29;ReadPosRankSum=-1.531e+00;SOR=3.246;VQSLOD=-2.453e+00;culprit=DP\tGT:AD:DP:GQ:PL\t0/1:9,4:13:99:119,0,314\n",
      "\n",
      "chr1\t20212\trs867690215\tA\tG\t46.77\tPASS\tAC=1;AF=0.500;AN=2;BaseQRankSum=-1.418e+00;DB;DP=20;ExcessHet=3.0103;FS=0.000;MLEAC=1;MLEAF=0.500;MQRankSum=-1.817e+00;QD=2.34;ReadPosRankSum=0.477;SOR=0.446;VQSLOD=-1.128e+00;culprit=QD\tGT:AD:DP:GQ:PGT:PID:PL:PS\t0|1:17,3:20:75:0|1:20207_G_A:75,0,621:20207\n",
      "\n",
      "chr1\t28326\trs376400995\tGT\tG\t53.70\tPASS\tAC=2;AF=1.00;AN=2;DB;DP=2;ExcessHet=3.0103;FS=0.000;MLEAC=2;MLEAF=1.00;QD=26.85;SOR=2.303;VQSLOD=-3.267e+00;culprit=DP\tGT:AD:DP:GQ:PL\t1/1:0,2:2:6:90,6,0\n",
      "\n",
      "chr1\t28343\trs1334568876\tG\tC\t36.74\tPASS\tAC=2;AF=1.00;AN=2;DB;DP=2;ExcessHet=3.0103;FS=0.000;MLEAC=2;MLEAF=1.00;NEGATIVE_TRAIN_SITE;QD=18.37;SOR=2.303;VQSLOD=-1.363e+00;culprit=FS\tGT:AD:DP:GQ:PL\t1/1:0,2:2:6:64,6,0\n",
      "\n",
      "chr1\t28563\trs4099234\tA\tG\t217.80\tPASS\tAC=2;AF=1.00;AN=2;DB;DP=7;ExcessHet=3.0103;FS=0.000;MLEAC=2;MLEAF=1.00;QD=31.11;SOR=1.609;VQSLOD=1.88;culprit=FS\tGT:AD:DP:GQ:PL\t1/1:0,7:7:21:246,21,0\n",
      "\n",
      "chr1\t28590\trs757557694\tT\tTTGG\t121.73\tPASS\tAC=1;AF=0.500;AN=2;BaseQRankSum=-1.068e+00;DB;DP=7;ExcessHet=3.0103;FS=8.451;MLEAC=1;MLEAF=0.500;MQRankSum=2.19;NEGATIVE_TRAIN_SITE;QD=17.39;ReadPosRankSum=2.19;SOR=3.236;VQSLOD=-1.554e+00;culprit=DP\tGT:AD:DP:GQ:PL\t0/1:3,4:7:99:159,0,114\n",
      "\n",
      "chr1\t39261\trs11489793\tT\tC\t778.77\tPASS\tAC=1;AF=0.500;AN=2;BaseQRankSum=0.915;DB;DP=61;ExcessHet=3.0103;FS=0.000;MLEAC=1;MLEAF=0.500;MQRankSum=-2.047e+00;QD=12.98;ReadPosRankSum=-6.560e-01;SOR=0.579;VQSLOD=2.57;culprit=FS\tGT:AD:DP:GQ:PL\t0/1:35,25:60:99:807,0,855\n",
      "\n",
      "chr1\t39602\trs1480690204\tG\tA\t154.77\tPASS\tAC=1;AF=0.500;AN=2;BaseQRankSum=-5.300e-01;DB;DP=15;ExcessHet=3.0103;FS=0.000;MLEAC=1;MLEAF=0.500;MQRankSum=0.00;NEGATIVE_TRAIN_SITE;QD=11.05;ReadPosRankSum=1.88;SOR=0.307;VQSLOD=-1.326e+00;culprit=FS\tGT:AD:DP:GQ:PGT:PID:PL:PS\t0|1:9,5:14:99:0|1:39602_G_A:183,0,357:39602\n",
      "\n",
      "chr1\t39604\trs1180903343\tT\tC\t154.77\tPASS\tAC=1;AF=0.500;AN=2;BaseQRankSum=-1.183e+00;DB;DP=15;ExcessHet=3.0103;FS=0.000;MLEAC=1;MLEAF=0.500;MQRankSum=0.00;QD=11.05;ReadPosRankSum=1.73;SOR=0.307;VQSLOD=-1.317e+00;culprit=FS\tGT:AD:DP:GQ:PGT:PID:PL:PS\t0|1:9,5:14:99:0|1:39602_G_A:183,0,357:39602\n",
      "\n",
      "chr1\t92654\trs1453416721\tT\tC\t107.28\tPASS\tAC=2;AF=1.00;AN=2;DB;DP=3;ExcessHet=3.0103;FS=0.000;MLEAC=2;MLEAF=1.00;QD=28.35;SOR=1.179;VQSLOD=1.68;culprit=FS\tGT:AD:DP:GQ:PGT:PID:PL:PS\t1|1:0,3:3:9:1|1:92654_T_C:135,9,0:92654\n",
      "\n",
      "chr1\t94986\trs185004859\tC\tT\t91.28\tPASS\tAC=2;AF=1.00;AN=2;DB;DP=3;ExcessHet=3.0103;FS=0.000;MLEAC=2;MLEAF=1.00;QD=30.43;SOR=1.179;VQSLOD=1.62;culprit=FS\tGT:AD:DP:GQ:PL\t1/1:0,3:3:9:119,9,0\n",
      "\n",
      "chr1\t96081\trs879548275\tC\tA\t35.77\tPASS\tAC=1;AF=0.500;AN=2;BaseQRankSum=1.96;DB;DP=6;ExcessHet=3.0103;FS=0.000;MLEAC=1;MLEAF=0.500;MQRankSum=1.44;QD=5.96;ReadPosRankSum=0.189;SOR=0.693;VQSLOD=-8.629e-01;culprit=QD\tGT:AD:DP:GQ:PL\t0/1:3,3:6:60:64,0,6\n"
     ]
    }
   ],
   "source": []
  },
  {
   "cell_type": "code",
   "execution_count": null,
   "id": "e04117ed-62f1-4c47-8257-8b08276d44f1",
   "metadata": {},
   "outputs": [],
   "source": []
  }
 ],
 "metadata": {
  "kernelspec": {
   "display_name": "Python 3 (ipykernel)",
   "language": "python",
   "name": "python3"
  },
  "language_info": {
   "codemirror_mode": {
    "name": "ipython",
    "version": 3
   },
   "file_extension": ".py",
   "mimetype": "text/x-python",
   "name": "python",
   "nbconvert_exporter": "python",
   "pygments_lexer": "ipython3",
   "version": "3.12.6"
  }
 },
 "nbformat": 4,
 "nbformat_minor": 5
}
